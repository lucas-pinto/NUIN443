{
  "cells": [
    {
      "cell_type": "markdown",
      "metadata": {
        "id": "view-in-github",
        "colab_type": "text"
      },
      "source": [
        "<a href=\"https://colab.research.google.com/github/lucas-pinto/NUIN443/blob/main/problemSets/NUIN443_ps10_neural_dynamics.ipynb\" target=\"_parent\"><img src=\"https://colab.research.google.com/assets/colab-badge.svg\" alt=\"Open In Colab\"/></a>"
      ]
    },
    {
      "cell_type": "code",
      "execution_count": null,
      "id": "e94119cd-cbb5-473b-b139-94d9edddb6a7",
      "metadata": {
        "id": "e94119cd-cbb5-473b-b139-94d9edddb6a7"
      },
      "outputs": [],
      "source": [
        "import numpy as np\n",
        "import matplotlib.pyplot as plt\n",
        "%matplotlib inline"
      ]
    },
    {
      "cell_type": "markdown",
      "id": "0c0b806b-f631-4e0a-9624-1b6d360579b3",
      "metadata": {
        "id": "0c0b806b-f631-4e0a-9624-1b6d360579b3"
      },
      "source": [
        "## Problem Set 10: Applying Concepts from Dynamical Systems Theory to Neurodynamic Models\n",
        "\n",
        "This problem set is targeted at the material that was presented on May 8th on dynamical system methods and their application to neurodynamica modeling problems. The lecture notes cover all the material that is required for answering the questions below and also provide various code examples that will be helpful.\n",
        "\n",
        "\n",
        "### Problem 1: The dynamics of the QIF neuron\n",
        "\n",
        "<br/>\n",
        "\n",
        "In class, the quadratic integrate-and-fire neuron was introduced as a one-dimensional neuron model governed by the differential equation\n",
        "\n",
        "$$\\dot v = v^2 + I(t),$$\n",
        "\n",
        "where $v$ represents the membrane potential of the neuron and $I(t)$ is the time-dependent input to the neuron.\n",
        "Furthermore, the QIF neuron requires a reset rule to allow for the model to generate spikes:\n",
        "\n",
        "$$ v > v_{\\text{cutoff}}: v \\leftarrow v_{\\text{reset}},$$\n",
        "\n",
        "i.e. when the membrane potential reaches the cutoff value $v_{\\text{cutoff}}$, the QIF neuron is said to generate a spike and the membrane potential is reset to $v_{\\text{reset}}$.\n",
        "Here, you will explore the dynamics of the QIF neuron in a bit more detail.\n",
        "\n",
        "<br/>\n",
        "\n",
        "**Your task:**\n",
        "\n",
        "For this problem, you will use the Euler method for solving differential equations to generate time series of the QIF neuron.\n",
        "As part of the class, it was shown that the QIF neuron has two equilibrium points if $I < 0$ and no equilibrium points if $I > 0$.\n",
        "To visualize the dynamics of the neuron in these different dynamical regimes, perform simulations for the following scenarios:\n",
        "\n",
        "1. The QIF neuron is in a resting state and receives a subthreshold input $I(t)$ that excites the neuron but fails to generate a spike\n",
        "2. The QIF neuron is in a resting state and receives a superthreshold input $I(t)$ that leads to the generation of a single spike\n",
        "3. The QIF neuron is in a regular spiking state and receives an input that temporarily silences the neuron (i.e. spike generation stops for a while and then comes back on)\n",
        "\n",
        "For each of these regimes, you are asked to do the following:\n",
        "\n",
        "- define an extrinsinc input for each of the simulation steps. Choose a tonic input level, and a time window in which the input takes on a different value than the tonic input.\n",
        "- perform a simulation of the QIF neuron dynamics when driven by the input you defined (i.e. solve the initial value problem numerically)\n",
        "- generate a plot that depicts the QIF neuron dynamics as well as the input over time\n",
        "- visualize the phase portrait of the QIF neuron for the tonic and phasic input regimes\n",
        "- plot the QIF neuron dynamics for the tonic and phasic input regimes as a trajectory on top of the phase portrait\n"
      ]
    },
    {
      "cell_type": "code",
      "execution_count": null,
      "id": "c0c567bb-2447-443a-abcf-8b873ddf7f4e",
      "metadata": {
        "id": "c0c567bb-2447-443a-abcf-8b873ddf7f4e"
      },
      "outputs": [],
      "source": [
        "# Scenario I\n",
        "############\n",
        "\n",
        "def qif(v, I):\n",
        "    return ...\n",
        "\n",
        "\n",
        "# simulation parameters\n",
        "T = 100.0\n",
        "dt = ...\n",
        "\n",
        "# define input\n",
        "inp = ...\n",
        "\n",
        "# perform simulation\n",
        "...\n",
        "\n",
        "# generate plots\n",
        "..."
      ]
    },
    {
      "cell_type": "code",
      "execution_count": null,
      "id": "6961c08b-7403-4513-a335-418cfef77386",
      "metadata": {
        "id": "6961c08b-7403-4513-a335-418cfef77386"
      },
      "outputs": [],
      "source": [
        "# Scenario II\n",
        "#############"
      ]
    },
    {
      "cell_type": "code",
      "execution_count": null,
      "id": "3dc9af1d-7254-4530-a930-4c2b3ab7d3de",
      "metadata": {
        "id": "3dc9af1d-7254-4530-a930-4c2b3ab7d3de"
      },
      "outputs": [],
      "source": [
        "# Scenario III\n",
        "##############"
      ]
    },
    {
      "cell_type": "markdown",
      "id": "3103bf43-2bfe-482c-a491-cf9c5c18b39f",
      "metadata": {
        "id": "3103bf43-2bfe-482c-a491-cf9c5c18b39f"
      },
      "source": [
        "### Problem 2: A biophysical neuron model\n",
        "\n",
        "A more biophysical version of the QIF neuron has been developed by Eugene Izhikevich (Izhikevich 2007). The membrane potential dynamics of this neuron model follows the evolution equation\n",
        "\n",
        "$$ \\dot v = \\frac{1}{C}(k(v - v_r)(v - v_t) + I(t)),$$\n",
        "\n",
        "where $k$, $C$, $v_r$, and $v_t$ are biophysical constants of the neuron model and $I(t)$ is an input, again.\n",
        "The neuron model also has a reset rule that is identical to the reset rule of the QIF neuron\n",
        "\n",
        "$$ v > v_{\\text{cutoff}}: v \\leftarrow v_{\\text{reset}}.$$\n",
        "\n",
        "\n",
        "For this neuron model, answer the following questions:\n",
        "1. how many equilibrium points does the neuron model have?\n",
        "2. where are the equilibrium points located and what is their stability?\n",
        "3. do any bifurcation points exist in the neuron model? If yes, where are they?\n",
        "4. What is the meaning of the equilibrium points and potential bifurcation points for the neuronal dynamics (i.e. can you provide a biophysical interpretation)?\n",
        "5. How do $C$ and $k$ affect the dynamics of the neuron model?\n",
        "\n",
        "To support your answers to these questions, plot the vector field of the neuron model against the membrane potential for different chocies of $C$ and $k$. You may also choose to perform simulations of the neuron dynamics in response to a transient input $I(t)$ and plot the resulting time series in support of your answers."
      ]
    },
    {
      "cell_type": "code",
      "execution_count": null,
      "id": "b971dabb-460b-4ec8-8a1a-b3435682cf0a",
      "metadata": {
        "id": "b971dabb-460b-4ec8-8a1a-b3435682cf0a"
      },
      "outputs": [],
      "source": []
    }
  ],
  "metadata": {
    "kernelspec": {
      "display_name": "Python 3 (ipykernel)",
      "language": "python",
      "name": "python3"
    },
    "language_info": {
      "codemirror_mode": {
        "name": "ipython",
        "version": 3
      },
      "file_extension": ".py",
      "mimetype": "text/x-python",
      "name": "python",
      "nbconvert_exporter": "python",
      "pygments_lexer": "ipython3",
      "version": "3.9.13"
    },
    "colab": {
      "provenance": [],
      "include_colab_link": true
    }
  },
  "nbformat": 4,
  "nbformat_minor": 5
}