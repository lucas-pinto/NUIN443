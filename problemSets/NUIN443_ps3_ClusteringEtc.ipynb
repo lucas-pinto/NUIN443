{
  "cells": [
    {
      "cell_type": "markdown",
      "metadata": {
        "id": "view-in-github",
        "colab_type": "text"
      },
      "source": [
        "<a href=\"https://colab.research.google.com/github/lucas-pinto/NUIN443/blob/main/problemSets/NUIN443_ps3_ClusteringEtc.ipynb\" target=\"_parent\"><img src=\"https://colab.research.google.com/assets/colab-badge.svg\" alt=\"Open In Colab\"/></a>"
      ]
    },
    {
      "cell_type": "markdown",
      "id": "f68602f9-aca1-479d-a257-dc40b1fd60ad",
      "metadata": {
        "id": "f68602f9-aca1-479d-a257-dc40b1fd60ad"
      },
      "source": [
        "# PROBLEM SET 3: PCA, CLUSTERING & CLASSIFICATION #\n",
        "\n",
        "Here we will review some of the key concepts from the clustering and classification lecture. <br>\n",
        "We will first do PCA on some Pinto Lab widefield data, and use the reduced dimensionality to cluster cortical areas with K-means. <br>\n",
        "We will then try to classify pixels from two areas with linear or kernel SVMs. Have fun! <br>"
      ]
    },
    {
      "cell_type": "code",
      "execution_count": null,
      "id": "f9c79ecf-75d5-492d-9ffc-a2553ca593d9",
      "metadata": {
        "id": "f9c79ecf-75d5-492d-9ffc-a2553ca593d9"
      },
      "outputs": [],
      "source": [
        "# PROBLEM SET INTRO AND SETUP\n",
        "import numpy as np\n",
        "import matplotlib.pyplot as plt\n",
        "import pickle\n",
        "from scipy.stats import zscore\n",
        "from sklearn.svm import SVC\n",
        "from sklearn.model_selection import KFold\n"
      ]
    },
    {
      "cell_type": "code",
      "source": [
        "# LOAD DATA\n",
        "!wget -nc https://www.dropbox.com/scl/fi/jqqug0ucp6chbj2szr5j8/nuin443_wf_intothevoid_data.pickle?rlkey=ix7ximcjm190baoxg2dlkkbjn&dl=0"
      ],
      "metadata": {
        "id": "aXEmNN1pi6eA"
      },
      "id": "aXEmNN1pi6eA",
      "execution_count": null,
      "outputs": []
    },
    {
      "cell_type": "markdown",
      "id": "47e7f0e5-97a9-4679-9f2d-98f5ef6ec712",
      "metadata": {
        "id": "47e7f0e5-97a9-4679-9f2d-98f5ef6ec712"
      },
      "source": [
        "## Problem 1: PCA ##\n",
        "\n",
        "**1a**. Load a \\\\(\\Delta F / F \\\\) data matrix (dimensions: 1000 imaging frames (i.e. time) x 5563 pixels (i.e. space)). The pixels span mulitple areas of the dorsal cortex (left hemisphere), and were imaged as a mouse ran in the dark (a.k.a. the \"Into the Void\" protocol). You will also need some other variables (see comments below for explanation of data formats). <br>\n",
        "**1b**. We will use these data to cluster pixels into brain areas. But first we will need to do some dimensionality reduction, as it is unfeasible to use a 1000-dimensional vector for clustering. Use PCA to do this, but compute the principal components and eigenvalues directly from the SVD function (i.e., without using any \"PCA\" functions from statistical packages). Do this twice: first, to obtain spatial components to help you guide choose \\\\(K\\\\); second, for temporal components, to reduce the dimensionality of your clustering problem. <br>\n",
        "**1c**. Plot the eigenvalues for spatial and temporal components. Where are the elbows? What do these results tell you about dimensionality of large-scale dynamics? Do you think this is fixed or does it depend on what the behavior is? <br>"
      ]
    },
    {
      "cell_type": "code",
      "execution_count": null,
      "id": "fcfbc677-b0d4-43e0-8db8-3ae8a4ac48c5",
      "metadata": {
        "id": "fcfbc677-b0d4-43e0-8db8-3ae8a4ac48c5"
      },
      "outputs": [],
      "source": [
        "# 1a. Load data\n",
        "filename    = 'nuin443_wf_intothevoid_data.pickle?rlkey=ix7ximcjm190baoxg2dlkkbjn'\n",
        "with open(filename, 'rb') as handle:\n",
        "    [dff,nan_idx,area_id_image,area_names,area_lbl] = pickle.load(handle)\n",
        "\n",
        "# dff           : frames x pixels matrix\n",
        "# nan_idx       : a vector indicating which pixels were masked to occlude vasculature and off-implant pixels.\n",
        "#                 You will need to reconstruct the images, but I will provide the function for that\n",
        "# area_id_image : and image with cortical areas coded according to the Allen Brain Atlas\n",
        "# area_names    : a list of unique cortical areas\n",
        "# area_lbl      : a list assigning an area name to each pixel in the data"
      ]
    },
    {
      "cell_type": "code",
      "execution_count": null,
      "id": "e5ddaf84-f025-47d2-a1dc-f2949f2084d5",
      "metadata": {
        "id": "e5ddaf84-f025-47d2-a1dc-f2949f2084d5"
      },
      "outputs": [],
      "source": [
        "# 1b. Do PCA of the dff matrix in time and space (i.e., along different dimensions of the matrix)\n",
        "# Do it using np.linalg.svd\n",
        "# hint: you can use sklearn.decompose.PCA to check your results\n",
        "\n"
      ]
    },
    {
      "cell_type": "code",
      "execution_count": null,
      "id": "d1baa1fd-1265-495f-9ef0-073837421c6c",
      "metadata": {
        "id": "d1baa1fd-1265-495f-9ef0-073837421c6c"
      },
      "outputs": [],
      "source": [
        "# 1c.i. Plot the fraction variance explained for the first 30 components\n"
      ]
    },
    {
      "cell_type": "code",
      "execution_count": null,
      "id": "3cd3b92d-5e4b-419f-9954-ab96c0532959",
      "metadata": {
        "id": "3cd3b92d-5e4b-419f-9954-ab96c0532959"
      },
      "outputs": [],
      "source": [
        "# 1c.ii. What do these results tell you about dimensionality of large-scale dynamics?\n",
        "# Do you think this is fixed or does it depend on what the behavior is?\n",
        "# (answer as a comment below)\n",
        "\n",
        "\n"
      ]
    },
    {
      "cell_type": "markdown",
      "id": "188e8d99-8bcd-4dc6-81de-1a138cd01bfd",
      "metadata": {
        "id": "188e8d99-8bcd-4dc6-81de-1a138cd01bfd"
      },
      "source": [
        "## Problem 2: K-means ##\n",
        "\n",
        "Now we will get set up to cluster the dff decomposition in time.\n",
        "\n",
        "**2a**. Write your own K-means function. <br>\n",
        "**2b**. Write your own function to compute the Calinski–Harabasz (CH) index. <br>\n",
        "**2c**. Test your function with some toy data, varying \\\\(K\\\\) between 2 and 5 and plotting CH and clustering results. <br>"
      ]
    },
    {
      "cell_type": "code",
      "execution_count": null,
      "id": "dba9c7ed-5ec2-40bd-88a2-e4b0edac4f83",
      "metadata": {
        "id": "dba9c7ed-5ec2-40bd-88a2-e4b0edac4f83"
      },
      "outputs": [],
      "source": [
        "# 2a. K-means function\n",
        "def kmeans(X,K,maxiter=100,initial_value=None,doZscore=True):\n",
        "    # zscore if required\n",
        "    if doZscore:\n",
        "        X      = zscore(X)\n",
        "\n",
        "    # pick a random initial value roughly within the data scale\n",
        "    if initial_value is None:\n",
        "        mean_x        = np.mean(X,axis=0)\n",
        "        std_x         = np.std(X,axis=0)\n",
        "        initial_value = np.random.normal(size=(K,np.size(X,axis=1)),scale=1)*std_x+mean_x\n",
        "\n",
        "    # now set up and iterate between the \"E\" and \"M\" steps\n"
      ]
    },
    {
      "cell_type": "code",
      "execution_count": null,
      "id": "de146f82-6533-4929-8d07-786fe76a35ab",
      "metadata": {
        "id": "de146f82-6533-4929-8d07-786fe76a35ab"
      },
      "outputs": [],
      "source": [
        "# 2b. Calinski–Harabasz index\n",
        "def ch_index(X,clust_id):\n",
        "\n"
      ]
    },
    {
      "cell_type": "code",
      "execution_count": null,
      "id": "93ff7373-e757-4199-a538-9c7358fe5228",
      "metadata": {
        "id": "93ff7373-e757-4199-a538-9c7358fe5228"
      },
      "outputs": [],
      "source": [
        "# 2c.i Generate 3 clusters of toy data\n",
        "m1  = np.array([0,0])\n",
        "m2  = np.array([6,6])\n",
        "m3  = np.array([-6,6])\n",
        "cov = np.array([[2,0],[0,2]])\n",
        "x1  = np.random.multivariate_normal(m1,cov,size=1000)\n",
        "x2  = np.random.multivariate_normal(m2,cov,size=1000)\n",
        "x3  = np.random.multivariate_normal(m3,cov,size=1000)\n",
        "X   = zscore(np.concatenate((x1,x2,x3),axis=0))\n",
        "\n",
        "# plot data to visualize it\n",
        "plt.figure()\n",
        "plt.scatter(X[:,0],X[:,1],marker='.',alpha=0.5,c='grey')\n",
        "plt.show()"
      ]
    },
    {
      "cell_type": "code",
      "execution_count": null,
      "id": "5029b1b2-d2bd-4aaf-a85e-fdd9c0a94553",
      "metadata": {
        "id": "5029b1b2-d2bd-4aaf-a85e-fdd9c0a94553"
      },
      "outputs": [],
      "source": [
        "# 2.c.ii. Test your K means function with Ks between 2 and 5\n",
        "# and compute CH index for each K\n",
        "\n",
        "\n",
        "# Plot CH statistic and cluster assignments for all Ks\n",
        "\n"
      ]
    },
    {
      "cell_type": "markdown",
      "id": "0c0945c9-5726-4539-96c3-559958fdf4d9",
      "metadata": {
        "id": "0c0945c9-5726-4539-96c3-559958fdf4d9"
      },
      "source": [
        "### Problem 3: Clustering widefield imaging data ##\n",
        "\n",
        "Now we're ready to cluster the widefield data using your functions!\n",
        "\n",
        "**3a**. First, based on the elbow in the eigenvalues, select \\\\(n\\\\) first principal components in time. That is, we want to cluster a matrix of dimensions \\\\(pixels \\times n\\\\). <br>\n",
        "**3b**. Now we will choose a range of \\\\(K\\\\) based on the spatial PCs. Pick a central \\\\(K\\\\) as the elbow in the eigenvalues, and choose \\\\(K\\\\) to vary between +/- 4 of the elbow. <br>\n",
        "**3c**. Now run K-means for each value of \\\\(K\\\\), and plot CH as a function of \\\\(K\\\\). Pick the best one.  <br>\n",
        "**3d**. Plot the clusters for the selected \\\\(K\\\\) in brain space using the provided function. If you want you can compare to anatomical area labels. <br>"
      ]
    },
    {
      "cell_type": "code",
      "execution_count": null,
      "id": "6951aa18-4869-4b63-9401-4b928ca2900f",
      "metadata": {
        "id": "6951aa18-4869-4b63-9401-4b928ca2900f"
      },
      "outputs": [],
      "source": [
        "# 3a. Select n principal components in time and assemble a matrix for clustering\n"
      ]
    },
    {
      "cell_type": "code",
      "execution_count": null,
      "id": "dc4df2c7-21fa-40b1-a019-1c5ad9b0aa8f",
      "metadata": {
        "id": "dc4df2c7-21fa-40b1-a019-1c5ad9b0aa8f"
      },
      "outputs": [],
      "source": [
        "# 3b. Based on space PCA eigenvalues, choose K to vary between +/- 4 of elbow.\n"
      ]
    },
    {
      "cell_type": "code",
      "execution_count": null,
      "id": "e76b91a7-5d4d-4d5b-9e33-699aefe34f4e",
      "metadata": {
        "id": "e76b91a7-5d4d-4d5b-9e33-699aefe34f4e"
      },
      "outputs": [],
      "source": [
        "# 3c. Now run K-means for each value of K, and plot CH as a function of K.\n",
        "\n",
        "\n",
        "# Use your kmeans and CH functions to decide optimal k\n",
        "\n",
        "\n",
        "# plot CH\n"
      ]
    },
    {
      "cell_type": "code",
      "execution_count": null,
      "id": "042001ef-1600-4276-8529-067ba8ecb36c",
      "metadata": {
        "id": "042001ef-1600-4276-8529-067ba8ecb36c"
      },
      "outputs": [],
      "source": [
        "# 3d.i. Use this function to convert your vector of cluster IDs into an image of the left hemisphere\n",
        "# you will transform a vector of data into an image with masked pixels filled in as NaN\n",
        "# note that nan_idx is in the pickled data and already loaded\n",
        "#\n",
        "# call it like this: make_brain_image(cid,nan_idx), where cid is a vector of cluster labels\n",
        "\n",
        "def make_brain_image(vec_in,nan_idx,imsize=[128,128]):\n",
        "    xx                = np.array(vec_in).reshape((-1))\n",
        "    nidx              = nan_idx.reshape((-1))\n",
        "    vec_out           = np.zeros(imsize[0]*imsize[1])\n",
        "    vec_out[nan_idx]  = np.nan\n",
        "    vec_out[~nan_idx] = xx\n",
        "\n",
        "    return np.transpose(vec_out.reshape((imsize[0],imsize[1])))[:,np.arange(65)]\n"
      ]
    },
    {
      "cell_type": "code",
      "execution_count": null,
      "id": "7ae9132b-59ae-4d5d-8e16-630f5b87522e",
      "metadata": {
        "id": "7ae9132b-59ae-4d5d-8e16-630f5b87522e"
      },
      "outputs": [],
      "source": [
        "# 3d.ii. Plot the clusters for the selected K in brain space using the provided function\n",
        "\n",
        "# FILL IN: define cid as the labels for best K\n",
        "\n",
        "\n",
        "# plot cluster assignment\n",
        "plt.figure()\n",
        "plt.subplot(121)\n",
        "plt.imshow(make_brain_image(cid,nan_idx))\n",
        "ax = plt.gca()\n",
        "ax.set_axis_off()\n",
        "\n",
        "# plot Allen brain areas (the apparently different dimensions are due to pixel masking)\n",
        "plt.subplot(122)\n",
        "plt.imshow(area_id_image)\n",
        "ax = plt.gca()\n",
        "ax.set_axis_off()"
      ]
    },
    {
      "cell_type": "markdown",
      "id": "ed61f4d0-c96c-421b-9171-6ccdb100b5c2",
      "metadata": {
        "id": "ed61f4d0-c96c-421b-9171-6ccdb100b5c2"
      },
      "source": [
        "### Problem 4: Classification using SVMs ##\n",
        "\n",
        "Finally, we will use the same dataset to try to classify which of two areas a pixel belongs to, based on the first two temporal PCs. We will compare the performance of a vanilla linear SVM with that of one using a radial basis functions (rbf) kernel. This is mostly pre-coded, the point is more illustrating the difference in what the two types of SVMs can accomplish.\n",
        "\n",
        "**4a**. Select pixels from the primary visual cortex (V1) or the trunk subregion of the somatosensory cortex. Plot the PC1 and PC2 values for each pixel. Do you think these will be linearly separable? <br>\n",
        "**4b**. Train a linear or kernel SVM using 10-fold cross -validation. Print the average cross-validated accuracy. Were your suspicions confirmed? <br>"
      ]
    },
    {
      "cell_type": "code",
      "execution_count": null,
      "id": "58578df6-29a8-48e1-9c3c-0cb3ff5f9e41",
      "metadata": {
        "id": "58578df6-29a8-48e1-9c3c-0cb3ff5f9e41"
      },
      "outputs": [],
      "source": [
        "# 4a. Select pixels from the primary visual cortex (V1) or the trunk subregion of the somatosensory cortex\n",
        "\n",
        "# boolean vectors for each area\n",
        "v1_idx   = area_lbl=='VISp'\n",
        "sstr_idx = area_lbl=='SSp-tr'\n",
        "\n",
        "# FILL IN:\n",
        "# now use these to index into the first two temporal PCs\n",
        "# you should end up with a 390 x 2 matrix for V1, and 260 x 2 for SStr\n",
        "\n",
        "# FILL IN:\n",
        "# Plot the PC1 and PC2 values for each pixel on the same axis, using different colors for each area\n",
        "# Do you think these will be linearly separable?\n"
      ]
    },
    {
      "cell_type": "code",
      "execution_count": null,
      "id": "eb3567f1-9066-4f8a-a4f4-c2566d738600",
      "metadata": {
        "id": "eb3567f1-9066-4f8a-a4f4-c2566d738600"
      },
      "outputs": [],
      "source": [
        "# Train a linear or kernel SVM using 10-fold cross -validation.\n",
        "# Print the average cross-validated accuracy. Were your suspicions confirmed?\n",
        "\n",
        "# set up cross-val\n",
        "num_fold    = 10\n",
        "kf          = KFold(n_splits=num_fold)\n",
        "model_lin   = SVC(kernel='linear')\n",
        "model_rbf   = SVC(kernel='rbf')\n",
        "acc_lin     = []\n",
        "acc_rbf     = []\n",
        "\n",
        "# FILL IN:\n",
        "# set up X and y by concatenating your vectors\n",
        "\n",
        "\n",
        "# cross validate\n",
        "for iXval, (train_index, test_index) in enumerate(kf.split(X)):\n",
        "    thismodel = model_lin.fit(X[train_index,:],y[train_index])\n",
        "    yhat      = thismodel.predict(X[test_index,:])\n",
        "    acc       = sum(yhat==y[test_index])/len(test_index)\n",
        "    acc_lin.append(acc)\n",
        "\n",
        "    thismodel = model_rbf.fit(X[train_index,:],y[train_index])\n",
        "    yhat      = thismodel.predict(X[test_index,:])\n",
        "    acc       = sum(yhat==y[test_index])/len(test_index)\n",
        "    acc_rbf.append(acc)\n",
        "\n",
        "print(np.mean(np.array(acc_lin)))\n",
        "print(np.mean(np.array(acc_rbf)))"
      ]
    }
  ],
  "metadata": {
    "kernelspec": {
      "display_name": "Python 3 (ipykernel)",
      "language": "python",
      "name": "python3"
    },
    "language_info": {
      "codemirror_mode": {
        "name": "ipython",
        "version": 3
      },
      "file_extension": ".py",
      "mimetype": "text/x-python",
      "name": "python",
      "nbconvert_exporter": "python",
      "pygments_lexer": "ipython3",
      "version": "3.8.2"
    },
    "colab": {
      "provenance": [],
      "include_colab_link": true
    }
  },
  "nbformat": 4,
  "nbformat_minor": 5
}