{
 "cells": [
  {
   "cell_type": "code",
   "execution_count": null,
   "metadata": {},
   "outputs": [],
   "source": [
    "import numpy as np\n",
    "import matplotlib.pyplot as plt"
   ]
  },
  {
   "cell_type": "markdown",
   "metadata": {},
   "source": [
    "# Problem Set 9: Simulating a Morris-Lecar Neuron\n",
    "\n",
    "All problems that require an answer are marked by $\\color{violet}{\\text{text in violet}}$ so you don't miss them."
   ]
  },
  {
   "cell_type": "markdown",
   "metadata": {},
   "source": [
    "# Background on the Morris-Lecar model\n",
    "Most neuroscientists know the story of the [Hodgkin Huxley model](https://en.wikipedia.org/wiki/Hodgkin%E2%80%93Huxley_model) and the squid giant axon. But did you can get nearly the same range of spiking behaviors with half the parameters? Enter the **Morris-Lecar model**, one of the most popular conductance-based models in neuroscience.\n",
    "\n",
    "Developed by Catherine Morris and Harold Lecar from recordings of the [giant acorn barnacle](https://en.wikipedia.org/wiki/Balanus_nubilus), it captures the spiking dynamics of neurons in terms of two dynamical parameters: a membrane potential $V$ and a recovery variable $W$, the latter of which captures the fraction of open potassium ion channels in the neuron.\n",
    "\n",
    "Because potassium ion channels open/close more slowly than other voltage-gated channels, they become a rate-limiting step for action potentials; by comparison, all other ion channels can be assumed to achieve their steady-state values instantaneously. This **separation of timescales** is what allows Morris and Lecar to describe the entire action potential generation process in terms of only two dynamic variables.\n",
    "\n",
    "[Read more about the Morris-Lecar model on Scholarpedia](http://www.scholarpedia.org/article/Morris-Lecar_model).\n",
    "\n",
    "[Read more about the Morris-Lecar model on Wikipedia](https://en.wikipedia.org/wiki/Morris%E2%80%93Lecar_model).\n",
    "\n",
    "## Introducing the model\n",
    "\n",
    "The Morris-Lecar model is defined by the following pair of diffential equations:\n",
    "\n",
    "\\begin{align}\n",
    "  C \\frac{dV}{dt} & ~=~ - g_\\mathrm{Ca} \\cdot M_\\mathrm{ss}(V) \\cdot (V-V_\\mathrm{Ca}) - g_\\mathrm{K} \\cdot W \\cdot (V-V_\\mathrm{K}) - g_\\mathrm{L} \\cdot (V-V_\\mathrm{L}) + I\\\\[5pt]\n",
    "  \\frac{dW}{dt} & ~=~ \\frac{W_\\mathrm{ss}-W}{T_\\mathrm{W}(V)}\n",
    "\\end{align}\n",
    "\n",
    "Let's start with the biophysical parameters: $C$ is the membrane capacitance, $g_\\mathrm{Ca}$, $g_\\mathrm{K}$, and $g_\\mathrm{L}$ are ion-specific conductances (\"L\" is a leak conductance, basically a catch-all for all ions other than potassium and calcium), and $V_\\mathrm{Ca}$, $V_\\mathrm{K}$, and $V_\\mathrm{L}$ are corresponding ion-specific reversal potentials.\n",
    "\n",
    "The dynamics of voltage-gated ion channels are captured by $M_\\mathrm{ss}(V)$ and $W$, describing how calcium and potassium conductances change as a function of the membrane potential $V$. $M_\\mathrm{ss}(V)$ is called that because voltage-dependent changes in calcium channel conductances are fast compared to those of potassium channels, effectively instantly reaching its *steady-state* value (hence the *ss*). While $M$ is still a function of the cell's membrane potential, it can be treated as constant once we condition on $V$.\n",
    "\n",
    "$W$ evolves more slowly- the second equation shows the dynamics by which it reaches its steady-state value $W_\\mathrm{ss}(V)$ as a function of time. Our remaining parameter $T_\\mathrm{W}(V)$ captures just that, the membrane-potential-dependent-rate at which $W$ approaches $W_\\mathrm{ss}$.\n",
    "\n",
    "Now for the last bit of equations- we have to define $M_\\mathrm{ss}(V)$, $W_\\mathrm{ss}(V)$, and $T_\\mathrm{W}(V)$. These are defined in terms of five parameters that Morris and Lecar fit to their data:\n",
    "\n",
    "\\begin{align}\n",
    "M_\\mathrm{ss}(V) & ~=~ (1 + \\tanh[(V-V_1)/V_2])/2\\\\\n",
    "W_\\mathrm{ss}(V) & ~=~ (1 + \\tanh[(V-V_3)/V_4])/2\\\\\n",
    "T_\\mathrm{W}(V) & ~=~ T_0/\\cosh[(V-V_3)/(2V_4)]\\\\\n",
    "\\end{align}"
   ]
  },
  {
   "cell_type": "markdown",
   "metadata": {},
   "source": [
    "## Problem 1. Understanding the channel steady-state dynamics\n",
    "\n",
    "Before we go further, let's quickly look at how these last three equations change as a function of V:"
   ]
  },
  {
   "cell_type": "markdown",
   "metadata": {},
   "source": [
    "We'll use V1-V4 values derived from data."
   ]
  },
  {
   "cell_type": "code",
   "execution_count": null,
   "metadata": {},
   "outputs": [],
   "source": [
    "V1 = -1.2\n",
    "V2 = 18.0\n",
    "V3 = 12.0\n",
    "V4 = 17.4\n",
    "T0 = 0.0667"
   ]
  },
  {
   "cell_type": "markdown",
   "metadata": {},
   "source": [
    "$\\color{violet}{\\text{1a. Write lambda functions defining $M_{ss}$, $W_{ss}$, and $T_W$ as functions of an input parameter $V$.}}$ "
   ]
  },
  {
   "cell_type": "code",
   "execution_count": null,
   "metadata": {},
   "outputs": [],
   "source": [
    "Mss = lambda V: \n",
    "Wss = lambda V: \n",
    "Tw  = lambda V: "
   ]
  },
  {
   "cell_type": "markdown",
   "metadata": {},
   "source": [
    "$\\color{violet}{\\text{1b. Now, plot the value of $M_{ss}$, $W_{ss}$, and $T_w$ over a biologically reasonable range of membrane potentials.}}$\n"
   ]
  },
  {
   "cell_type": "code",
   "execution_count": null,
   "metadata": {},
   "outputs": [],
   "source": []
  },
  {
   "cell_type": "markdown",
   "metadata": {},
   "source": [
    "$\\color{violet}{\\text{1c. What do these plots tell us about the behavior of $M_{ss}$, $W_{ss}$, and $T_W$ as functions of the membrane potential?}}$"
   ]
  },
  {
   "cell_type": "markdown",
   "metadata": {},
   "source": [
    "$M_\\mathrm{ss}$ and $W_\\mathrm{ss}$ are telling us that ...\n",
    "$T_\\mathrm{W}$ is telling us that ..."
   ]
  },
  {
   "cell_type": "markdown",
   "metadata": {},
   "source": [
    "$\\color{violet}{\\text{1d. What about $V_1$ - $V_4$- what are they doing?}}$\n",
    "\n",
    "Try either looking at the equations or fiddling around with the values of these parameters in your plotting code, to determine the effect they are having on $M_\\mathrm{ss}(V)$ and $W_\\mathrm{ss}(V)$"
   ]
  },
  {
   "cell_type": "code",
   "execution_count": null,
   "metadata": {},
   "outputs": [],
   "source": [
    "V1 and V3 ...\n",
    "\n",
    "V2 and V4 ..."
   ]
  },
  {
   "cell_type": "markdown",
   "metadata": {},
   "source": [
    "## Problem 2. Simulating the model\n",
    "Let's define two sets of parameters for the Morris-Lecar model: basic electrical properties of the cell, and voltage sensitivities and reaction times of the ion channels.\n",
    "\n",
    "The first set of parameters are pretty consistent across neurons. Here are some reasonable values:"
   ]
  },
  {
   "cell_type": "code",
   "execution_count": null,
   "metadata": {},
   "outputs": [],
   "source": [
    "param_cell = {'membrane_capacitance':         20.0,   # uF/cm^2\n",
    "              \n",
    "              'calcium_reversal_potential':   120.0,  # mV\n",
    "              'potassium_reversal_potential': -80.0,  # mV\n",
    "              'leak_reversal_potential':      -60.0,  # mV\n",
    "              \n",
    "              'calcium_conductance':          4.4,    # mS/cm^2\n",
    "              'potassium_conductance':        8.0,    # mS/cm^2\n",
    "              'leak conductance':             2.0,    # mS/cm^2\n",
    "             }"
   ]
  },
  {
   "cell_type": "markdown",
   "metadata": {},
   "source": [
    "The second set of ion channel parameters are different for different cell types. Here's one set of values to get you started:"
   ]
  },
  {
   "cell_type": "code",
   "execution_count": null,
   "metadata": {},
   "outputs": [],
   "source": [
    "param_channels = {'V1': -1.2,   # mV\n",
    "                  'V2': 18.0,   # mV\n",
    "                  'V3': 12.0,   # mV\n",
    "                  'V4': 17.4,   # mV\n",
    "                  'T0': 0.0667  # ms^-1 we didn't talk about this- it's just a scaling term on the rate of change of W\n",
    "                 }"
   ]
  },
  {
   "cell_type": "markdown",
   "metadata": {},
   "source": [
    "$\\color{violet}{\\text{2a. First, complete this function that simulates one timestep of the model.}}$"
   ]
  },
  {
   "cell_type": "code",
   "execution_count": null,
   "metadata": {},
   "outputs": [],
   "source": [
    "def morris_lecar_step(V, W, param_cell, param_channels, I, dt):\n",
    "    \n",
    "    C   = param_cell['membrane_capacitance']\n",
    "    gCa = param_cell['calcium_conductance']\n",
    "    gK  = param_cell['potassium_conductance']\n",
    "    gL  = param_cell['leak conductance']\n",
    "    vCa = param_cell['calcium_reversal_potential']\n",
    "    vK  = param_cell['potassium_reversal_potential']\n",
    "    vL  = param_cell['leak_reversal_potential']\n",
    "    \n",
    "    V1  = param_channels['V1']\n",
    "    V2  = param_channels['V2']\n",
    "    V3  = param_channels['V3']\n",
    "    V4  = param_channels['V4']\n",
    "    T0  = param_channels['T0']\n",
    "    \n",
    "    # add your previously defined lambdas here:\n",
    "    Mss = lambda V: ...\n",
    "    Wss = ...\n",
    "    Tw  = ...\n",
    "    \n",
    "    \n",
    "    # calculate change in V and W according to the Morris-Lecar model:\n",
    "    dvdt = \n",
    "    dwdt = \n",
    "    \n",
    "    # update V and W using first-order Euler's method:\n",
    "    V2 = V + dvdt * dt\n",
    "    W2 = W + dwdt * dt\n",
    "    \n",
    "    return V2, W2, Mss(V), Wss(V), Tw(V)"
   ]
  },
  {
   "cell_type": "markdown",
   "metadata": {},
   "source": [
    "\n",
    "$\\color{violet}{\\text{2b. Now, using your single-timestep code above, simulate the response of the model neuron to a one-second current injection.}}$\n",
    "\n",
    "Complete this code snippet to simulate two seconds of the dynamics of the Morris-Lecar model, and plot V and W as functions of time."
   ]
  },
  {
   "cell_type": "code",
   "execution_count": null,
   "metadata": {},
   "outputs": [],
   "source": [
    "V = -60.0     # initial conditions for membrane potential and potassium conductance\n",
    "W = 0.0\n",
    "\n",
    "tmax = 2000.  # simulation time in milliseconds\n",
    "dt = 0.1      # simulation timestep in milliseconds\n",
    "\n",
    "stim_on = 0.1        # stimulus onset time in seconds\n",
    "stim_duration = 1.   # stimulus duration in seconds\n",
    "stim_amp = 60.0      # stimulus amplitude in uA\n",
    "\n",
    "time = np.arange(0, tmax, dt)/1000.  # simulation timestamps\n",
    "time = time - stim_on  # align time to current onset, just for fun\n",
    "simtime = len(time)    # compute the number of simulation timesteps\n",
    "\n",
    "I = ... # create the input current\n",
    "\n",
    "\n",
    "v_store = np.zeros(simtime)  # store history of V\n",
    "w_store = np.zeros(simtime)  # store history of W\n",
    "for t in range(simtime):\n",
    "    ... # replace this with your code\n",
    "\n",
    "\n",
    "fig, ax = plt.subplots(3, figsize=(12,12))\n",
    "ax[0].plot(time, v_store)\n",
    "ax[0].set_ylabel('Membrane potential (mV)')\n",
    "\n",
    "ax[1].plot(time, w_store)\n",
    "ax[1].set_ylabel('Potassium conductance (mS/cm^2)')\n",
    "\n",
    "ax[2].plot(time, I)\n",
    "ax[2].set_ylabel('Input current (uA)')\n",
    "ax[2].set_xlabel('time (seconds)')\n",
    "plt.show()"
   ]
  },
  {
   "cell_type": "markdown",
   "metadata": {},
   "source": [
    "## Problem 3. Constructing a F-I curve\n",
    "A common analysis in neurophysiology is to plot the frequency-current (F-I) curve of a recorded neuron. To do so, you inject the cell with different amounts of current, and plot for each amount the cell's spiking frequency (in spikes/second).\n",
    "\n",
    "$\\color{violet}{\\text{3a. Plot an F-I curve for the Morris-Lecar model using the parameter values from part 2.} \\\\\n",
    "\\text{Test currents of $0 \\mu A$ to $90 \\mu A$, using a 5-second current injection.}\\\\\n",
    "\\text{Consider a spike to occur when the membrane potential passes above $0 mV$.}}$"
   ]
  },
  {
   "cell_type": "code",
   "execution_count": null,
   "metadata": {},
   "outputs": [],
   "source": []
  },
  {
   "cell_type": "markdown",
   "metadata": {},
   "source": [
    "$\\color{violet}{\\text{3b. What happens to your spike rate if you go above $90 \\mu A$? Why? }}$"
   ]
  },
  {
   "cell_type": "markdown",
   "metadata": {},
   "source": [
    "Above 90 uA, the spike rate..."
   ]
  },
  {
   "cell_type": "markdown",
   "metadata": {},
   "source": [
    "## Problem 4. A different spiking behavior\n",
    "\n",
    "If we change the channel activation parameters of the model, we can produce different looking F-I curves.\n",
    "\n",
    "$\\color{violet}{\\text{4a. As in problem 3, construct an F-I curve of the model using the revised channel parameter settings provided below,}\\\\\n",
    "\\text{over an input range of $40 - 120 \\mu A$.}}$"
   ]
  },
  {
   "cell_type": "code",
   "execution_count": null,
   "metadata": {},
   "outputs": [],
   "source": [
    "param_channels_2 = {'V1': -1.2,   # mV\n",
    "                    'V2': 18.0,   # mV\n",
    "                    'V3': 2.0,   # mV\n",
    "                    'V4': 30.0,   # mV\n",
    "                    'T0': 0.04  # ms^-1\n",
    "                   }"
   ]
  },
  {
   "cell_type": "code",
   "execution_count": null,
   "metadata": {},
   "outputs": [],
   "source": []
  },
  {
   "cell_type": "markdown",
   "metadata": {},
   "source": [
    "$\\color{violet}{\\text{4b. Use the F-I curve to pick three values of $I$ that capture different behaviors of the model.}\\\\\n",
    "\\text{Plot the model's response to a one-second input for each value of $I$, and describe what you find.}}$"
   ]
  },
  {
   "cell_type": "code",
   "execution_count": null,
   "metadata": {},
   "outputs": [],
   "source": []
  },
  {
   "cell_type": "markdown",
   "metadata": {},
   "source": [
    "## Bonus problem: thinking in matrix notation\n",
    "Throughout this homework, we treated $V$ and $W$ as two separate variables, which is fine- but it can be a good mental exercise to try to think of how you could repackage this system using matrix notation. For Morris-Lecar, doing so also allows us to put our model into the form needed for simulation using the exponential Euler method.\n",
    "\n",
    "$\\color{violet}{\\text{Bonus Problem. Re-write the Morris-Lecar equations for $V$ and $W$ in terms of a single vector $Y$,}\\\\ \\text{whose dynamics take the form}\n",
    "\\begin{align}\n",
    "\\frac{dy}{dt} & ~=~ A(y) - B(y) y\n",
    "\\end{align}\n",
    "}$"
   ]
  }
 ],
 "metadata": {
  "kernelspec": {
   "display_name": "Python 3 (ipykernel)",
   "language": "python",
   "name": "python3"
  },
  "language_info": {
   "codemirror_mode": {
    "name": "ipython",
    "version": 3
   },
   "file_extension": ".py",
   "mimetype": "text/x-python",
   "name": "python",
   "nbconvert_exporter": "python",
   "pygments_lexer": "ipython3",
   "version": "3.11.5"
  }
 },
 "nbformat": 4,
 "nbformat_minor": 2
}
